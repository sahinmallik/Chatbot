{
 "cells": [
  {
   "cell_type": "code",
   "execution_count": 1,
   "metadata": {
    "execution": {
     "iopub.execute_input": "2022-09-14T15:36:15.546711Z",
     "iopub.status.busy": "2022-09-14T15:36:15.546016Z",
     "iopub.status.idle": "2022-09-14T15:36:15.553341Z",
     "shell.execute_reply": "2022-09-14T15:36:15.552139Z",
     "shell.execute_reply.started": "2022-09-14T15:36:15.546564Z"
    }
   },
   "outputs": [],
   "source": [
    "import pickle\n",
    "import numpy as np"
   ]
  },
  {
   "cell_type": "code",
   "execution_count": 2,
   "metadata": {
    "execution": {
     "iopub.execute_input": "2022-09-14T15:36:15.556678Z",
     "iopub.status.busy": "2022-09-14T15:36:15.555710Z",
     "iopub.status.idle": "2022-09-14T15:36:15.690099Z",
     "shell.execute_reply": "2022-09-14T15:36:15.689072Z",
     "shell.execute_reply.started": "2022-09-14T15:36:15.556610Z"
    }
   },
   "outputs": [],
   "source": [
    "with open(\"train_qa.txt\", \"rb\") as fp:   \n",
    "    train_data =  pickle.load(fp)"
   ]
  },
  {
   "cell_type": "code",
   "execution_count": 3,
   "metadata": {
    "execution": {
     "iopub.execute_input": "2022-09-14T15:36:15.692727Z",
     "iopub.status.busy": "2022-09-14T15:36:15.691965Z",
     "iopub.status.idle": "2022-09-14T15:36:15.717565Z",
     "shell.execute_reply": "2022-09-14T15:36:15.716744Z",
     "shell.execute_reply.started": "2022-09-14T15:36:15.692679Z"
    }
   },
   "outputs": [],
   "source": [
    "with open(\"test_qa.txt\", \"rb\") as fp:   \n",
    "    test_data =  pickle.load(fp)"
   ]
  },
  {
   "cell_type": "code",
   "execution_count": 4,
   "metadata": {
    "execution": {
     "iopub.execute_input": "2022-09-14T15:36:15.720996Z",
     "iopub.status.busy": "2022-09-14T15:36:15.720527Z",
     "iopub.status.idle": "2022-09-14T15:36:15.732316Z",
     "shell.execute_reply": "2022-09-14T15:36:15.730977Z",
     "shell.execute_reply.started": "2022-09-14T15:36:15.720949Z"
    }
   },
   "outputs": [
    {
     "data": {
      "text/plain": [
       "list"
      ]
     },
     "execution_count": 4,
     "metadata": {},
     "output_type": "execute_result"
    }
   ],
   "source": [
    "type(test_data)"
   ]
  },
  {
   "cell_type": "code",
   "execution_count": 5,
   "metadata": {
    "execution": {
     "iopub.execute_input": "2022-09-14T15:36:15.737700Z",
     "iopub.status.busy": "2022-09-14T15:36:15.737087Z",
     "iopub.status.idle": "2022-09-14T15:36:15.744889Z",
     "shell.execute_reply": "2022-09-14T15:36:15.743762Z",
     "shell.execute_reply.started": "2022-09-14T15:36:15.737633Z"
    }
   },
   "outputs": [
    {
     "data": {
      "text/plain": [
       "list"
      ]
     },
     "execution_count": 5,
     "metadata": {},
     "output_type": "execute_result"
    }
   ],
   "source": [
    "type(train_data)"
   ]
  },
  {
   "cell_type": "code",
   "execution_count": 6,
   "metadata": {
    "execution": {
     "iopub.execute_input": "2022-09-14T15:36:15.749386Z",
     "iopub.status.busy": "2022-09-14T15:36:15.748778Z",
     "iopub.status.idle": "2022-09-14T15:36:15.756736Z",
     "shell.execute_reply": "2022-09-14T15:36:15.755588Z",
     "shell.execute_reply.started": "2022-09-14T15:36:15.749348Z"
    }
   },
   "outputs": [
    {
     "data": {
      "text/plain": [
       "1000"
      ]
     },
     "execution_count": 6,
     "metadata": {},
     "output_type": "execute_result"
    }
   ],
   "source": [
    "len(test_data)"
   ]
  },
  {
   "cell_type": "code",
   "execution_count": 7,
   "metadata": {
    "execution": {
     "iopub.execute_input": "2022-09-14T15:36:15.760026Z",
     "iopub.status.busy": "2022-09-14T15:36:15.759305Z",
     "iopub.status.idle": "2022-09-14T15:36:15.770198Z",
     "shell.execute_reply": "2022-09-14T15:36:15.769028Z",
     "shell.execute_reply.started": "2022-09-14T15:36:15.759980Z"
    }
   },
   "outputs": [
    {
     "data": {
      "text/plain": [
       "10000"
      ]
     },
     "execution_count": 7,
     "metadata": {},
     "output_type": "execute_result"
    }
   ],
   "source": [
    "len(train_data)"
   ]
  },
  {
   "cell_type": "code",
   "execution_count": 8,
   "metadata": {
    "execution": {
     "iopub.execute_input": "2022-09-14T15:36:15.773071Z",
     "iopub.status.busy": "2022-09-14T15:36:15.772440Z",
     "iopub.status.idle": "2022-09-14T15:36:15.814965Z",
     "shell.execute_reply": "2022-09-14T15:36:15.813730Z",
     "shell.execute_reply.started": "2022-09-14T15:36:15.773023Z"
    }
   },
   "outputs": [
    {
     "data": {
      "text/plain": [
       "(['Mary',\n",
       "  'moved',\n",
       "  'to',\n",
       "  'the',\n",
       "  'bathroom',\n",
       "  '.',\n",
       "  'Sandra',\n",
       "  'journeyed',\n",
       "  'to',\n",
       "  'the',\n",
       "  'bedroom',\n",
       "  '.'],\n",
       " ['Is', 'Sandra', 'in', 'the', 'hallway', '?'],\n",
       " 'no')"
      ]
     },
     "execution_count": 8,
     "metadata": {},
     "output_type": "execute_result"
    }
   ],
   "source": [
    "train_data[0]"
   ]
  },
  {
   "cell_type": "code",
   "execution_count": 9,
   "metadata": {
    "execution": {
     "iopub.execute_input": "2022-09-14T15:36:15.817246Z",
     "iopub.status.busy": "2022-09-14T15:36:15.816516Z",
     "iopub.status.idle": "2022-09-14T15:36:15.824057Z",
     "shell.execute_reply": "2022-09-14T15:36:15.823013Z",
     "shell.execute_reply.started": "2022-09-14T15:36:15.817191Z"
    }
   },
   "outputs": [
    {
     "data": {
      "text/plain": [
       "'Mary moved to the bathroom . Sandra journeyed to the bedroom .'"
      ]
     },
     "execution_count": 9,
     "metadata": {},
     "output_type": "execute_result"
    }
   ],
   "source": [
    "' '.join(train_data[0][0])"
   ]
  },
  {
   "cell_type": "code",
   "execution_count": 10,
   "metadata": {
    "execution": {
     "iopub.execute_input": "2022-09-14T15:36:15.826218Z",
     "iopub.status.busy": "2022-09-14T15:36:15.825625Z",
     "iopub.status.idle": "2022-09-14T15:36:15.837030Z",
     "shell.execute_reply": "2022-09-14T15:36:15.835835Z",
     "shell.execute_reply.started": "2022-09-14T15:36:15.826175Z"
    }
   },
   "outputs": [
    {
     "data": {
      "text/plain": [
       "'Is Sandra in the hallway ?'"
      ]
     },
     "execution_count": 10,
     "metadata": {},
     "output_type": "execute_result"
    }
   ],
   "source": [
    "' '.join(train_data[0][1])"
   ]
  },
  {
   "cell_type": "code",
   "execution_count": 11,
   "metadata": {
    "execution": {
     "iopub.execute_input": "2022-09-14T15:36:15.839584Z",
     "iopub.status.busy": "2022-09-14T15:36:15.838763Z",
     "iopub.status.idle": "2022-09-14T15:36:15.851551Z",
     "shell.execute_reply": "2022-09-14T15:36:15.850716Z",
     "shell.execute_reply.started": "2022-09-14T15:36:15.839437Z"
    }
   },
   "outputs": [
    {
     "data": {
      "text/plain": [
       "'no'"
      ]
     },
     "execution_count": 11,
     "metadata": {},
     "output_type": "execute_result"
    }
   ],
   "source": [
    "train_data[0][2]"
   ]
  },
  {
   "cell_type": "code",
   "execution_count": 12,
   "metadata": {
    "execution": {
     "iopub.execute_input": "2022-09-14T15:36:15.853882Z",
     "iopub.status.busy": "2022-09-14T15:36:15.853139Z",
     "iopub.status.idle": "2022-09-14T15:36:15.861482Z",
     "shell.execute_reply": "2022-09-14T15:36:15.860251Z",
     "shell.execute_reply.started": "2022-09-14T15:36:15.853835Z"
    }
   },
   "outputs": [],
   "source": [
    "# Create a set that holds the vocab words\n",
    "vocab = set()"
   ]
  },
  {
   "cell_type": "code",
   "execution_count": 13,
   "metadata": {
    "execution": {
     "iopub.execute_input": "2022-09-14T15:36:15.863742Z",
     "iopub.status.busy": "2022-09-14T15:36:15.863091Z",
     "iopub.status.idle": "2022-09-14T15:36:15.912229Z",
     "shell.execute_reply": "2022-09-14T15:36:15.873065Z",
     "shell.execute_reply.started": "2022-09-14T15:36:15.863698Z"
    }
   },
   "outputs": [],
   "source": [
    "all_data = test_data + train_data"
   ]
  },
  {
   "cell_type": "code",
   "execution_count": 14,
   "metadata": {
    "execution": {
     "iopub.execute_input": "2022-09-14T15:36:15.915178Z",
     "iopub.status.busy": "2022-09-14T15:36:15.914406Z",
     "iopub.status.idle": "2022-09-14T15:36:15.978167Z",
     "shell.execute_reply": "2022-09-14T15:36:15.977248Z",
     "shell.execute_reply.started": "2022-09-14T15:36:15.915117Z"
    }
   },
   "outputs": [],
   "source": [
    "for story, question , answer in all_data:\n",
    "    vocab = vocab.union(set(story))\n",
    "    vocab = vocab.union(set(question))"
   ]
  },
  {
   "cell_type": "code",
   "execution_count": 15,
   "metadata": {
    "execution": {
     "iopub.execute_input": "2022-09-14T15:36:15.980118Z",
     "iopub.status.busy": "2022-09-14T15:36:15.979718Z",
     "iopub.status.idle": "2022-09-14T15:36:15.986089Z",
     "shell.execute_reply": "2022-09-14T15:36:15.984721Z",
     "shell.execute_reply.started": "2022-09-14T15:36:15.980075Z"
    }
   },
   "outputs": [],
   "source": [
    "vocab.add('no')\n",
    "vocab.add('yes')"
   ]
  },
  {
   "cell_type": "code",
   "execution_count": 16,
   "metadata": {
    "execution": {
     "iopub.execute_input": "2022-09-14T15:36:15.988258Z",
     "iopub.status.busy": "2022-09-14T15:36:15.987865Z",
     "iopub.status.idle": "2022-09-14T15:36:16.019877Z",
     "shell.execute_reply": "2022-09-14T15:36:16.018673Z",
     "shell.execute_reply.started": "2022-09-14T15:36:15.988224Z"
    }
   },
   "outputs": [
    {
     "data": {
      "text/plain": [
       "{'.',\n",
       " '?',\n",
       " 'Daniel',\n",
       " 'Is',\n",
       " 'John',\n",
       " 'Mary',\n",
       " 'Sandra',\n",
       " 'apple',\n",
       " 'back',\n",
       " 'bathroom',\n",
       " 'bedroom',\n",
       " 'discarded',\n",
       " 'down',\n",
       " 'dropped',\n",
       " 'football',\n",
       " 'garden',\n",
       " 'got',\n",
       " 'grabbed',\n",
       " 'hallway',\n",
       " 'in',\n",
       " 'journeyed',\n",
       " 'kitchen',\n",
       " 'left',\n",
       " 'milk',\n",
       " 'moved',\n",
       " 'no',\n",
       " 'office',\n",
       " 'picked',\n",
       " 'put',\n",
       " 'the',\n",
       " 'there',\n",
       " 'to',\n",
       " 'took',\n",
       " 'travelled',\n",
       " 'up',\n",
       " 'went',\n",
       " 'yes'}"
      ]
     },
     "execution_count": 16,
     "metadata": {},
     "output_type": "execute_result"
    }
   ],
   "source": [
    "vocab"
   ]
  },
  {
   "cell_type": "code",
   "execution_count": 17,
   "metadata": {
    "execution": {
     "iopub.execute_input": "2022-09-14T15:36:16.022802Z",
     "iopub.status.busy": "2022-09-14T15:36:16.021863Z",
     "iopub.status.idle": "2022-09-14T15:36:16.031112Z",
     "shell.execute_reply": "2022-09-14T15:36:16.029479Z",
     "shell.execute_reply.started": "2022-09-14T15:36:16.022752Z"
    }
   },
   "outputs": [],
   "source": [
    "vocab_len = len(vocab) + 1 "
   ]
  },
  {
   "cell_type": "code",
   "execution_count": 18,
   "metadata": {
    "execution": {
     "iopub.execute_input": "2022-09-14T15:36:16.034065Z",
     "iopub.status.busy": "2022-09-14T15:36:16.033091Z",
     "iopub.status.idle": "2022-09-14T15:36:16.045059Z",
     "shell.execute_reply": "2022-09-14T15:36:16.043932Z",
     "shell.execute_reply.started": "2022-09-14T15:36:16.034017Z"
    }
   },
   "outputs": [],
   "source": [
    "max_story_len = max([len(data[0]) for data in all_data])"
   ]
  },
  {
   "cell_type": "code",
   "execution_count": 19,
   "metadata": {
    "execution": {
     "iopub.execute_input": "2022-09-14T15:36:16.047835Z",
     "iopub.status.busy": "2022-09-14T15:36:16.047396Z",
     "iopub.status.idle": "2022-09-14T15:36:16.060195Z",
     "shell.execute_reply": "2022-09-14T15:36:16.059270Z",
     "shell.execute_reply.started": "2022-09-14T15:36:16.047803Z"
    }
   },
   "outputs": [
    {
     "data": {
      "text/plain": [
       "156"
      ]
     },
     "execution_count": 19,
     "metadata": {},
     "output_type": "execute_result"
    }
   ],
   "source": [
    "max_story_len"
   ]
  },
  {
   "cell_type": "code",
   "execution_count": 20,
   "metadata": {
    "execution": {
     "iopub.execute_input": "2022-09-14T15:36:16.061771Z",
     "iopub.status.busy": "2022-09-14T15:36:16.061456Z",
     "iopub.status.idle": "2022-09-14T15:36:16.073067Z",
     "shell.execute_reply": "2022-09-14T15:36:16.071780Z",
     "shell.execute_reply.started": "2022-09-14T15:36:16.061742Z"
    }
   },
   "outputs": [],
   "source": [
    "max_question_len = max([len(data[1]) for data in all_data])"
   ]
  },
  {
   "cell_type": "code",
   "execution_count": 21,
   "metadata": {
    "execution": {
     "iopub.execute_input": "2022-09-14T15:36:16.075942Z",
     "iopub.status.busy": "2022-09-14T15:36:16.075053Z",
     "iopub.status.idle": "2022-09-14T15:36:16.121564Z",
     "shell.execute_reply": "2022-09-14T15:36:16.120664Z",
     "shell.execute_reply.started": "2022-09-14T15:36:16.075897Z"
    }
   },
   "outputs": [
    {
     "data": {
      "text/plain": [
       "6"
      ]
     },
     "execution_count": 21,
     "metadata": {},
     "output_type": "execute_result"
    }
   ],
   "source": [
    "max_question_len"
   ]
  },
  {
   "cell_type": "code",
   "execution_count": 22,
   "metadata": {
    "execution": {
     "iopub.execute_input": "2022-09-14T15:36:16.125814Z",
     "iopub.status.busy": "2022-09-14T15:36:16.125402Z",
     "iopub.status.idle": "2022-09-14T15:36:16.135623Z",
     "shell.execute_reply": "2022-09-14T15:36:16.134466Z",
     "shell.execute_reply.started": "2022-09-14T15:36:16.125778Z"
    }
   },
   "outputs": [
    {
     "data": {
      "text/plain": [
       "{'.',\n",
       " '?',\n",
       " 'Daniel',\n",
       " 'Is',\n",
       " 'John',\n",
       " 'Mary',\n",
       " 'Sandra',\n",
       " 'apple',\n",
       " 'back',\n",
       " 'bathroom',\n",
       " 'bedroom',\n",
       " 'discarded',\n",
       " 'down',\n",
       " 'dropped',\n",
       " 'football',\n",
       " 'garden',\n",
       " 'got',\n",
       " 'grabbed',\n",
       " 'hallway',\n",
       " 'in',\n",
       " 'journeyed',\n",
       " 'kitchen',\n",
       " 'left',\n",
       " 'milk',\n",
       " 'moved',\n",
       " 'no',\n",
       " 'office',\n",
       " 'picked',\n",
       " 'put',\n",
       " 'the',\n",
       " 'there',\n",
       " 'to',\n",
       " 'took',\n",
       " 'travelled',\n",
       " 'up',\n",
       " 'went',\n",
       " 'yes'}"
      ]
     },
     "execution_count": 22,
     "metadata": {},
     "output_type": "execute_result"
    }
   ],
   "source": [
    "vocab"
   ]
  },
  {
   "cell_type": "code",
   "execution_count": 23,
   "metadata": {
    "execution": {
     "iopub.execute_input": "2022-09-14T15:36:16.138266Z",
     "iopub.status.busy": "2022-09-14T15:36:16.137581Z",
     "iopub.status.idle": "2022-09-14T15:36:16.144474Z",
     "shell.execute_reply": "2022-09-14T15:36:16.143398Z",
     "shell.execute_reply.started": "2022-09-14T15:36:16.138220Z"
    }
   },
   "outputs": [],
   "source": [
    "\n",
    "vocab_size = len(vocab) + 1"
   ]
  },
  {
   "cell_type": "code",
   "execution_count": 24,
   "metadata": {
    "execution": {
     "iopub.execute_input": "2022-09-14T15:36:16.155020Z",
     "iopub.status.busy": "2022-09-14T15:36:16.153851Z",
     "iopub.status.idle": "2022-09-14T15:36:22.721993Z",
     "shell.execute_reply": "2022-09-14T15:36:22.720672Z",
     "shell.execute_reply.started": "2022-09-14T15:36:16.154839Z"
    }
   },
   "outputs": [
    {
     "name": "stderr",
     "output_type": "stream",
     "text": [
      "2022-09-14 22:02:01.786404: I tensorflow/core/platform/cpu_feature_guard.cc:193] This TensorFlow binary is optimized with oneAPI Deep Neural Network Library (oneDNN) to use the following CPU instructions in performance-critical operations:  AVX2 AVX512F AVX512_VNNI FMA\n",
      "To enable them in other operations, rebuild TensorFlow with the appropriate compiler flags.\n"
     ]
    }
   ],
   "source": [
    "from keras_preprocessing.sequence import pad_sequences\n",
    "from keras.preprocessing.text import Tokenizer"
   ]
  },
  {
   "cell_type": "code",
   "execution_count": 25,
   "metadata": {
    "execution": {
     "iopub.execute_input": "2022-09-14T15:36:22.724765Z",
     "iopub.status.busy": "2022-09-14T15:36:22.724328Z",
     "iopub.status.idle": "2022-09-14T15:36:22.738444Z",
     "shell.execute_reply": "2022-09-14T15:36:22.736199Z",
     "shell.execute_reply.started": "2022-09-14T15:36:22.724720Z"
    }
   },
   "outputs": [],
   "source": [
    "tokenizer = Tokenizer(filters=[])\n",
    "tokenizer.fit_on_texts(vocab)"
   ]
  },
  {
   "cell_type": "code",
   "execution_count": 26,
   "metadata": {
    "execution": {
     "iopub.execute_input": "2022-09-14T15:36:22.744092Z",
     "iopub.status.busy": "2022-09-14T15:36:22.740997Z",
     "iopub.status.idle": "2022-09-14T15:36:22.759477Z",
     "shell.execute_reply": "2022-09-14T15:36:22.756945Z",
     "shell.execute_reply.started": "2022-09-14T15:36:22.744035Z"
    }
   },
   "outputs": [
    {
     "data": {
      "text/plain": [
       "{'yes': 1,\n",
       " 'left': 2,\n",
       " 'john': 3,\n",
       " 'moved': 4,\n",
       " 'office': 5,\n",
       " 'mary': 6,\n",
       " '.': 7,\n",
       " 'milk': 8,\n",
       " 'hallway': 9,\n",
       " 'down': 10,\n",
       " 'sandra': 11,\n",
       " 'grabbed': 12,\n",
       " 'is': 13,\n",
       " 'took': 14,\n",
       " 'football': 15,\n",
       " 'kitchen': 16,\n",
       " 'the': 17,\n",
       " 'garden': 18,\n",
       " 'back': 19,\n",
       " 'apple': 20,\n",
       " 'put': 21,\n",
       " 'discarded': 22,\n",
       " 'journeyed': 23,\n",
       " 'daniel': 24,\n",
       " 'to': 25,\n",
       " 'dropped': 26,\n",
       " '?': 27,\n",
       " 'got': 28,\n",
       " 'bedroom': 29,\n",
       " 'went': 30,\n",
       " 'bathroom': 31,\n",
       " 'no': 32,\n",
       " 'travelled': 33,\n",
       " 'up': 34,\n",
       " 'in': 35,\n",
       " 'picked': 36,\n",
       " 'there': 37}"
      ]
     },
     "execution_count": 26,
     "metadata": {},
     "output_type": "execute_result"
    }
   ],
   "source": [
    "tokenizer.word_index"
   ]
  },
  {
   "cell_type": "code",
   "execution_count": 27,
   "metadata": {
    "execution": {
     "iopub.execute_input": "2022-09-14T15:36:22.766410Z",
     "iopub.status.busy": "2022-09-14T15:36:22.764451Z",
     "iopub.status.idle": "2022-09-14T15:36:22.785351Z",
     "shell.execute_reply": "2022-09-14T15:36:22.783803Z",
     "shell.execute_reply.started": "2022-09-14T15:36:22.766324Z"
    }
   },
   "outputs": [],
   "source": [
    "train_story_text = []\n",
    "train_question_text = []\n",
    "train_answers = []\n",
    "\n",
    "for story,question,answer in train_data:\n",
    "    train_story_text.append(story)\n",
    "    train_question_text.append(question)"
   ]
  },
  {
   "cell_type": "code",
   "execution_count": 28,
   "metadata": {
    "execution": {
     "iopub.execute_input": "2022-09-14T15:36:22.788209Z",
     "iopub.status.busy": "2022-09-14T15:36:22.787442Z",
     "iopub.status.idle": "2022-09-14T15:36:23.002273Z",
     "shell.execute_reply": "2022-09-14T15:36:23.000833Z",
     "shell.execute_reply.started": "2022-09-14T15:36:22.788162Z"
    }
   },
   "outputs": [],
   "source": [
    "train_story_seq = tokenizer.texts_to_sequences(train_story_text)"
   ]
  },
  {
   "cell_type": "code",
   "execution_count": 29,
   "metadata": {
    "execution": {
     "iopub.execute_input": "2022-09-14T15:36:23.004427Z",
     "iopub.status.busy": "2022-09-14T15:36:23.003963Z",
     "iopub.status.idle": "2022-09-14T15:36:23.013030Z",
     "shell.execute_reply": "2022-09-14T15:36:23.011842Z",
     "shell.execute_reply.started": "2022-09-14T15:36:23.004381Z"
    }
   },
   "outputs": [
    {
     "data": {
      "text/plain": [
       "10000"
      ]
     },
     "execution_count": 29,
     "metadata": {},
     "output_type": "execute_result"
    }
   ],
   "source": [
    "len(train_story_text)"
   ]
  },
  {
   "cell_type": "code",
   "execution_count": 30,
   "metadata": {
    "execution": {
     "iopub.execute_input": "2022-09-14T15:36:23.015355Z",
     "iopub.status.busy": "2022-09-14T15:36:23.014709Z",
     "iopub.status.idle": "2022-09-14T15:36:23.024972Z",
     "shell.execute_reply": "2022-09-14T15:36:23.023856Z",
     "shell.execute_reply.started": "2022-09-14T15:36:23.015306Z"
    }
   },
   "outputs": [
    {
     "data": {
      "text/plain": [
       "10000"
      ]
     },
     "execution_count": 30,
     "metadata": {},
     "output_type": "execute_result"
    }
   ],
   "source": [
    "len(train_story_seq)"
   ]
  },
  {
   "cell_type": "code",
   "execution_count": 31,
   "metadata": {
    "execution": {
     "iopub.execute_input": "2022-09-14T15:36:23.027444Z",
     "iopub.status.busy": "2022-09-14T15:36:23.026712Z",
     "iopub.status.idle": "2022-09-14T15:36:23.039027Z",
     "shell.execute_reply": "2022-09-14T15:36:23.038097Z",
     "shell.execute_reply.started": "2022-09-14T15:36:23.027396Z"
    }
   },
   "outputs": [],
   "source": [
    "def vectorize_stories(data, word_index=tokenizer.word_index, max_story_len=max_story_len,max_question_len=max_question_len):\n",
    "\n",
    "    \n",
    "\n",
    "    X = []\n",
    "\n",
    "    Xq = []\n",
    "\n",
    "    Y = []\n",
    "    \n",
    "    \n",
    "    for story, query, answer in data:\n",
    "        \n",
    "\n",
    "        x = [word_index[word.lower()] for word in story]\n",
    "\n",
    "        xq = [word_index[word.lower()] for word in query]\n",
    "        \n",
    "        y = np.zeros(len(word_index) + 1)\n",
    "        \n",
    "        \n",
    "        y[word_index[answer]] = 1\n",
    "        \n",
    "        X.append(x)\n",
    "        Xq.append(xq)\n",
    "        Y.append(y)\n",
    "        \n",
    "\n",
    "    return (pad_sequences(X, maxlen=max_story_len),pad_sequences(Xq, maxlen=max_question_len), np.array(Y))"
   ]
  },
  {
   "cell_type": "code",
   "execution_count": 32,
   "metadata": {
    "execution": {
     "iopub.execute_input": "2022-09-14T15:36:23.042457Z",
     "iopub.status.busy": "2022-09-14T15:36:23.041874Z",
     "iopub.status.idle": "2022-09-14T15:36:23.346170Z",
     "shell.execute_reply": "2022-09-14T15:36:23.345185Z",
     "shell.execute_reply.started": "2022-09-14T15:36:23.042414Z"
    }
   },
   "outputs": [],
   "source": [
    "inputs_train, queries_train, answers_train = vectorize_stories(train_data)"
   ]
  },
  {
   "cell_type": "code",
   "execution_count": 33,
   "metadata": {
    "execution": {
     "iopub.execute_input": "2022-09-14T15:36:23.348184Z",
     "iopub.status.busy": "2022-09-14T15:36:23.347545Z",
     "iopub.status.idle": "2022-09-14T15:36:23.379960Z",
     "shell.execute_reply": "2022-09-14T15:36:23.378879Z",
     "shell.execute_reply.started": "2022-09-14T15:36:23.348138Z"
    }
   },
   "outputs": [],
   "source": [
    "inputs_test, queries_test, answers_test = vectorize_stories(test_data)"
   ]
  },
  {
   "cell_type": "code",
   "execution_count": 34,
   "metadata": {
    "execution": {
     "iopub.execute_input": "2022-09-14T15:36:23.382073Z",
     "iopub.status.busy": "2022-09-14T15:36:23.381663Z",
     "iopub.status.idle": "2022-09-14T15:36:23.391057Z",
     "shell.execute_reply": "2022-09-14T15:36:23.389925Z",
     "shell.execute_reply.started": "2022-09-14T15:36:23.382028Z"
    }
   },
   "outputs": [
    {
     "data": {
      "text/plain": [
       "array([[ 0,  0,  0, ..., 17, 29,  7],\n",
       "       [ 0,  0,  0, ..., 17, 18,  7],\n",
       "       [ 0,  0,  0, ..., 17, 18,  7],\n",
       "       ...,\n",
       "       [ 0,  0,  0, ..., 17, 20,  7],\n",
       "       [ 0,  0,  0, ..., 17, 18,  7],\n",
       "       [ 0,  0,  0, ..., 20, 37,  7]], dtype=int32)"
      ]
     },
     "execution_count": 34,
     "metadata": {},
     "output_type": "execute_result"
    }
   ],
   "source": [
    "inputs_test"
   ]
  },
  {
   "cell_type": "code",
   "execution_count": 35,
   "metadata": {
    "execution": {
     "iopub.execute_input": "2022-09-14T15:36:23.393613Z",
     "iopub.status.busy": "2022-09-14T15:36:23.393069Z",
     "iopub.status.idle": "2022-09-14T15:36:23.422199Z",
     "shell.execute_reply": "2022-09-14T15:36:23.421260Z",
     "shell.execute_reply.started": "2022-09-14T15:36:23.393580Z"
    }
   },
   "outputs": [
    {
     "data": {
      "text/plain": [
       "array([[13,  3, 35, 17, 16, 27],\n",
       "       [13,  3, 35, 17, 16, 27],\n",
       "       [13,  3, 35, 17, 18, 27],\n",
       "       ...,\n",
       "       [13,  6, 35, 17, 29, 27],\n",
       "       [13, 11, 35, 17, 18, 27],\n",
       "       [13,  6, 35, 17, 18, 27]], dtype=int32)"
      ]
     },
     "execution_count": 35,
     "metadata": {},
     "output_type": "execute_result"
    }
   ],
   "source": [
    "queries_test"
   ]
  },
  {
   "cell_type": "code",
   "execution_count": 36,
   "metadata": {
    "execution": {
     "iopub.execute_input": "2022-09-14T15:36:23.424607Z",
     "iopub.status.busy": "2022-09-14T15:36:23.424132Z",
     "iopub.status.idle": "2022-09-14T15:36:23.437072Z",
     "shell.execute_reply": "2022-09-14T15:36:23.435585Z",
     "shell.execute_reply.started": "2022-09-14T15:36:23.424564Z"
    }
   },
   "outputs": [
    {
     "data": {
      "text/plain": [
       "array([[0., 0., 0., ..., 0., 0., 0.],\n",
       "       [0., 0., 0., ..., 0., 0., 0.],\n",
       "       [0., 1., 0., ..., 0., 0., 0.],\n",
       "       ...,\n",
       "       [0., 0., 0., ..., 0., 0., 0.],\n",
       "       [0., 1., 0., ..., 0., 0., 0.],\n",
       "       [0., 1., 0., ..., 0., 0., 0.]])"
      ]
     },
     "execution_count": 36,
     "metadata": {},
     "output_type": "execute_result"
    }
   ],
   "source": [
    "answers_test"
   ]
  },
  {
   "cell_type": "code",
   "execution_count": 37,
   "metadata": {
    "execution": {
     "iopub.execute_input": "2022-09-14T15:36:23.439171Z",
     "iopub.status.busy": "2022-09-14T15:36:23.438555Z",
     "iopub.status.idle": "2022-09-14T15:36:23.450885Z",
     "shell.execute_reply": "2022-09-14T15:36:23.449964Z",
     "shell.execute_reply.started": "2022-09-14T15:36:23.439125Z"
    }
   },
   "outputs": [
    {
     "data": {
      "text/plain": [
       "array([  0., 497.,   0.,   0.,   0.,   0.,   0.,   0.,   0.,   0.,   0.,\n",
       "         0.,   0.,   0.,   0.,   0.,   0.,   0.,   0.,   0.,   0.,   0.,\n",
       "         0.,   0.,   0.,   0.,   0.,   0.,   0.,   0.,   0.,   0., 503.,\n",
       "         0.,   0.,   0.,   0.,   0.])"
      ]
     },
     "execution_count": 37,
     "metadata": {},
     "output_type": "execute_result"
    }
   ],
   "source": [
    "sum(answers_test)"
   ]
  },
  {
   "cell_type": "code",
   "execution_count": 38,
   "metadata": {
    "execution": {
     "iopub.execute_input": "2022-09-14T15:36:23.453868Z",
     "iopub.status.busy": "2022-09-14T15:36:23.453360Z",
     "iopub.status.idle": "2022-09-14T15:36:23.462190Z",
     "shell.execute_reply": "2022-09-14T15:36:23.461234Z",
     "shell.execute_reply.started": "2022-09-14T15:36:23.453824Z"
    }
   },
   "outputs": [
    {
     "data": {
      "text/plain": [
       "1"
      ]
     },
     "execution_count": 38,
     "metadata": {},
     "output_type": "execute_result"
    }
   ],
   "source": [
    "tokenizer.word_index['yes']"
   ]
  },
  {
   "cell_type": "code",
   "execution_count": 39,
   "metadata": {
    "execution": {
     "iopub.execute_input": "2022-09-14T15:36:23.466642Z",
     "iopub.status.busy": "2022-09-14T15:36:23.465982Z",
     "iopub.status.idle": "2022-09-14T15:36:23.474579Z",
     "shell.execute_reply": "2022-09-14T15:36:23.473676Z",
     "shell.execute_reply.started": "2022-09-14T15:36:23.466567Z"
    }
   },
   "outputs": [
    {
     "data": {
      "text/plain": [
       "32"
      ]
     },
     "execution_count": 39,
     "metadata": {},
     "output_type": "execute_result"
    }
   ],
   "source": [
    "tokenizer.word_index['no']"
   ]
  },
  {
   "cell_type": "code",
   "execution_count": 40,
   "metadata": {
    "execution": {
     "iopub.execute_input": "2022-09-14T15:36:23.476749Z",
     "iopub.status.busy": "2022-09-14T15:36:23.476059Z",
     "iopub.status.idle": "2022-09-14T15:36:23.510840Z",
     "shell.execute_reply": "2022-09-14T15:36:23.484307Z",
     "shell.execute_reply.started": "2022-09-14T15:36:23.476705Z"
    }
   },
   "outputs": [],
   "source": [
    "from keras.models import Sequential, Model\n",
    "from keras.layers import Embedding\n",
    "from keras.layers import Input, Activation, Dense, Permute, Dropout\n",
    "from keras.layers import add, dot, concatenate\n",
    "from keras.layers import LSTM"
   ]
  },
  {
   "cell_type": "code",
   "execution_count": 41,
   "metadata": {
    "execution": {
     "iopub.execute_input": "2022-09-14T15:36:23.513351Z",
     "iopub.status.busy": "2022-09-14T15:36:23.512669Z",
     "iopub.status.idle": "2022-09-14T15:36:23.532975Z",
     "shell.execute_reply": "2022-09-14T15:36:23.532026Z",
     "shell.execute_reply.started": "2022-09-14T15:36:23.513303Z"
    }
   },
   "outputs": [],
   "source": [
    "input_sequence = Input((max_story_len,))\n",
    "question = Input((max_question_len,))"
   ]
  },
  {
   "cell_type": "code",
   "execution_count": 42,
   "metadata": {
    "execution": {
     "iopub.execute_input": "2022-09-14T15:36:23.534779Z",
     "iopub.status.busy": "2022-09-14T15:36:23.534365Z",
     "iopub.status.idle": "2022-09-14T15:36:23.606154Z",
     "shell.execute_reply": "2022-09-14T15:36:23.604938Z",
     "shell.execute_reply.started": "2022-09-14T15:36:23.534735Z"
    }
   },
   "outputs": [
    {
     "name": "stderr",
     "output_type": "stream",
     "text": [
      "2022-09-14 22:02:07.564209: I tensorflow/core/platform/cpu_feature_guard.cc:193] This TensorFlow binary is optimized with oneAPI Deep Neural Network Library (oneDNN) to use the following CPU instructions in performance-critical operations:  AVX2 AVX512F AVX512_VNNI FMA\n",
      "To enable them in other operations, rebuild TensorFlow with the appropriate compiler flags.\n"
     ]
    }
   ],
   "source": [
    "input_encoder_m = Sequential()\n",
    "input_encoder_m.add(Embedding(input_dim=vocab_size,output_dim=64))\n",
    "input_encoder_m.add(Dropout(0.3))\n"
   ]
  },
  {
   "cell_type": "code",
   "execution_count": 43,
   "metadata": {
    "execution": {
     "iopub.execute_input": "2022-09-14T15:36:23.608550Z",
     "iopub.status.busy": "2022-09-14T15:36:23.608087Z",
     "iopub.status.idle": "2022-09-14T15:36:23.632057Z",
     "shell.execute_reply": "2022-09-14T15:36:23.631170Z",
     "shell.execute_reply.started": "2022-09-14T15:36:23.608494Z"
    }
   },
   "outputs": [],
   "source": [
    "input_encoder_c = Sequential()\n",
    "input_encoder_c.add(Embedding(input_dim=vocab_size,output_dim=max_question_len))\n",
    "input_encoder_c.add(Dropout(0.3))\n"
   ]
  },
  {
   "cell_type": "code",
   "execution_count": 44,
   "metadata": {
    "execution": {
     "iopub.execute_input": "2022-09-14T15:36:23.635276Z",
     "iopub.status.busy": "2022-09-14T15:36:23.634847Z",
     "iopub.status.idle": "2022-09-14T15:36:23.655123Z",
     "shell.execute_reply": "2022-09-14T15:36:23.654313Z",
     "shell.execute_reply.started": "2022-09-14T15:36:23.635232Z"
    }
   },
   "outputs": [],
   "source": [
    "question_encoder = Sequential()\n",
    "question_encoder.add(Embedding(input_dim=vocab_size,\n",
    "                               output_dim=64,\n",
    "                               input_length=max_question_len))\n",
    "question_encoder.add(Dropout(0.3))\n"
   ]
  },
  {
   "cell_type": "code",
   "execution_count": 45,
   "metadata": {
    "execution": {
     "iopub.execute_input": "2022-09-14T15:36:23.657137Z",
     "iopub.status.busy": "2022-09-14T15:36:23.656719Z",
     "iopub.status.idle": "2022-09-14T15:36:23.681083Z",
     "shell.execute_reply": "2022-09-14T15:36:23.680107Z",
     "shell.execute_reply.started": "2022-09-14T15:36:23.657094Z"
    }
   },
   "outputs": [],
   "source": [
    "\n",
    "input_encoded_m = input_encoder_m(input_sequence)\n",
    "input_encoded_c = input_encoder_c(input_sequence)\n",
    "question_encoded = question_encoder(question)"
   ]
  },
  {
   "cell_type": "code",
   "execution_count": 46,
   "metadata": {
    "execution": {
     "iopub.execute_input": "2022-09-14T15:36:23.684221Z",
     "iopub.status.busy": "2022-09-14T15:36:23.683785Z",
     "iopub.status.idle": "2022-09-14T15:36:23.714581Z",
     "shell.execute_reply": "2022-09-14T15:36:23.713749Z",
     "shell.execute_reply.started": "2022-09-14T15:36:23.684179Z"
    }
   },
   "outputs": [],
   "source": [
    "\n",
    "match = dot([input_encoded_m, question_encoded], axes=(2, 2))\n",
    "match = Activation('softmax')(match)"
   ]
  },
  {
   "cell_type": "code",
   "execution_count": 47,
   "metadata": {
    "execution": {
     "iopub.execute_input": "2022-09-14T15:36:23.716875Z",
     "iopub.status.busy": "2022-09-14T15:36:23.716151Z",
     "iopub.status.idle": "2022-09-14T15:36:23.730918Z",
     "shell.execute_reply": "2022-09-14T15:36:23.729768Z",
     "shell.execute_reply.started": "2022-09-14T15:36:23.716830Z"
    }
   },
   "outputs": [],
   "source": [
    "response = add([match, input_encoded_c])  # (samples, story_maxlen, query_maxlen)\n",
    "response = Permute((2, 1))(response)  # (samples, query_maxlen, story_maxlen)"
   ]
  },
  {
   "cell_type": "code",
   "execution_count": 48,
   "metadata": {
    "execution": {
     "iopub.execute_input": "2022-09-14T15:36:23.733272Z",
     "iopub.status.busy": "2022-09-14T15:36:23.732550Z",
     "iopub.status.idle": "2022-09-14T15:36:23.743876Z",
     "shell.execute_reply": "2022-09-14T15:36:23.742894Z",
     "shell.execute_reply.started": "2022-09-14T15:36:23.733228Z"
    }
   },
   "outputs": [],
   "source": [
    "answer = concatenate([response, question_encoded])"
   ]
  },
  {
   "cell_type": "code",
   "execution_count": 49,
   "metadata": {
    "execution": {
     "iopub.execute_input": "2022-09-14T15:36:23.746009Z",
     "iopub.status.busy": "2022-09-14T15:36:23.745540Z",
     "iopub.status.idle": "2022-09-14T15:36:23.754922Z",
     "shell.execute_reply": "2022-09-14T15:36:23.753772Z",
     "shell.execute_reply.started": "2022-09-14T15:36:23.745968Z"
    }
   },
   "outputs": [
    {
     "data": {
      "text/plain": [
       "<KerasTensor: shape=(None, 6, 220) dtype=float32 (created by layer 'concatenate')>"
      ]
     },
     "execution_count": 49,
     "metadata": {},
     "output_type": "execute_result"
    }
   ],
   "source": [
    "answer"
   ]
  },
  {
   "cell_type": "code",
   "execution_count": 50,
   "metadata": {
    "execution": {
     "iopub.execute_input": "2022-09-14T15:36:23.757814Z",
     "iopub.status.busy": "2022-09-14T15:36:23.757286Z",
     "iopub.status.idle": "2022-09-14T15:36:24.065813Z",
     "shell.execute_reply": "2022-09-14T15:36:24.064465Z",
     "shell.execute_reply.started": "2022-09-14T15:36:23.757767Z"
    }
   },
   "outputs": [],
   "source": [
    "answer = LSTM(32)(answer) "
   ]
  },
  {
   "cell_type": "code",
   "execution_count": 51,
   "metadata": {
    "execution": {
     "iopub.execute_input": "2022-09-14T15:36:24.067962Z",
     "iopub.status.busy": "2022-09-14T15:36:24.067526Z",
     "iopub.status.idle": "2022-09-14T15:36:24.085142Z",
     "shell.execute_reply": "2022-09-14T15:36:24.084220Z",
     "shell.execute_reply.started": "2022-09-14T15:36:24.067918Z"
    }
   },
   "outputs": [],
   "source": [
    "\n",
    "answer = Dropout(0.5)(answer)\n",
    "answer = Dense(vocab_size)(answer)"
   ]
  },
  {
   "cell_type": "code",
   "execution_count": 52,
   "metadata": {
    "execution": {
     "iopub.execute_input": "2022-09-14T15:36:24.087625Z",
     "iopub.status.busy": "2022-09-14T15:36:24.086835Z",
     "iopub.status.idle": "2022-09-14T15:36:24.124737Z",
     "shell.execute_reply": "2022-09-14T15:36:24.123752Z",
     "shell.execute_reply.started": "2022-09-14T15:36:24.087579Z"
    }
   },
   "outputs": [],
   "source": [
    "\n",
    "answer = Activation('softmax')(answer)\n",
    "\n",
    "\n",
    "model = Model([input_sequence, question], answer)\n",
    "model.compile(optimizer='rmsprop', loss='categorical_crossentropy',\n",
    "              metrics=['accuracy'])"
   ]
  },
  {
   "cell_type": "code",
   "execution_count": 53,
   "metadata": {
    "execution": {
     "iopub.execute_input": "2022-09-14T15:36:24.126540Z",
     "iopub.status.busy": "2022-09-14T15:36:24.126144Z",
     "iopub.status.idle": "2022-09-14T15:36:24.140051Z",
     "shell.execute_reply": "2022-09-14T15:36:24.138948Z",
     "shell.execute_reply.started": "2022-09-14T15:36:24.126496Z"
    }
   },
   "outputs": [
    {
     "name": "stdout",
     "output_type": "stream",
     "text": [
      "Model: \"model\"\n",
      "__________________________________________________________________________________________________\n",
      " Layer (type)                   Output Shape         Param #     Connected to                     \n",
      "==================================================================================================\n",
      " input_1 (InputLayer)           [(None, 156)]        0           []                               \n",
      "                                                                                                  \n",
      " input_2 (InputLayer)           [(None, 6)]          0           []                               \n",
      "                                                                                                  \n",
      " sequential (Sequential)        (None, None, 64)     2432        ['input_1[0][0]']                \n",
      "                                                                                                  \n",
      " sequential_2 (Sequential)      (None, 6, 64)        2432        ['input_2[0][0]']                \n",
      "                                                                                                  \n",
      " dot (Dot)                      (None, 156, 6)       0           ['sequential[0][0]',             \n",
      "                                                                  'sequential_2[0][0]']           \n",
      "                                                                                                  \n",
      " activation (Activation)        (None, 156, 6)       0           ['dot[0][0]']                    \n",
      "                                                                                                  \n",
      " sequential_1 (Sequential)      (None, None, 6)      228         ['input_1[0][0]']                \n",
      "                                                                                                  \n",
      " add (Add)                      (None, 156, 6)       0           ['activation[0][0]',             \n",
      "                                                                  'sequential_1[0][0]']           \n",
      "                                                                                                  \n",
      " permute (Permute)              (None, 6, 156)       0           ['add[0][0]']                    \n",
      "                                                                                                  \n",
      " concatenate (Concatenate)      (None, 6, 220)       0           ['permute[0][0]',                \n",
      "                                                                  'sequential_2[0][0]']           \n",
      "                                                                                                  \n",
      " lstm (LSTM)                    (None, 32)           32384       ['concatenate[0][0]']            \n",
      "                                                                                                  \n",
      " dropout_3 (Dropout)            (None, 32)           0           ['lstm[0][0]']                   \n",
      "                                                                                                  \n",
      " dense (Dense)                  (None, 38)           1254        ['dropout_3[0][0]']              \n",
      "                                                                                                  \n",
      " activation_1 (Activation)      (None, 38)           0           ['dense[0][0]']                  \n",
      "                                                                                                  \n",
      "==================================================================================================\n",
      "Total params: 38,730\n",
      "Trainable params: 38,730\n",
      "Non-trainable params: 0\n",
      "__________________________________________________________________________________________________\n"
     ]
    }
   ],
   "source": [
    "model.summary()"
   ]
  },
  {
   "cell_type": "code",
   "execution_count": 54,
   "metadata": {
    "execution": {
     "iopub.execute_input": "2022-09-14T15:37:13.727785Z",
     "iopub.status.busy": "2022-09-14T15:37:13.727138Z",
     "iopub.status.idle": "2022-09-14T15:46:48.575722Z",
     "shell.execute_reply": "2022-09-14T15:46:48.574767Z",
     "shell.execute_reply.started": "2022-09-14T15:37:13.727733Z"
    }
   },
   "outputs": [
    {
     "name": "stdout",
     "output_type": "stream",
     "text": [
      "Epoch 1/64\n",
      "625/625 [==============================] - 6s 6ms/step - loss: 0.8224 - accuracy: 0.4933 - val_loss: 0.6933 - val_accuracy: 0.5030\n",
      "Epoch 2/64\n",
      "625/625 [==============================] - 4s 6ms/step - loss: 0.6982 - accuracy: 0.5006 - val_loss: 0.6931 - val_accuracy: 0.5030\n",
      "Epoch 3/64\n",
      "625/625 [==============================] - 4s 6ms/step - loss: 0.6956 - accuracy: 0.5039 - val_loss: 0.6941 - val_accuracy: 0.5030\n",
      "Epoch 4/64\n",
      "625/625 [==============================] - 4s 7ms/step - loss: 0.6955 - accuracy: 0.4955 - val_loss: 0.6938 - val_accuracy: 0.4970\n",
      "Epoch 5/64\n",
      "625/625 [==============================] - 5s 8ms/step - loss: 0.6953 - accuracy: 0.5017 - val_loss: 0.6939 - val_accuracy: 0.5030\n",
      "Epoch 6/64\n",
      "625/625 [==============================] - 4s 7ms/step - loss: 0.6949 - accuracy: 0.4996 - val_loss: 0.6932 - val_accuracy: 0.5030\n",
      "Epoch 7/64\n",
      "625/625 [==============================] - 6s 10ms/step - loss: 0.6944 - accuracy: 0.5015 - val_loss: 0.6942 - val_accuracy: 0.4970\n",
      "Epoch 8/64\n",
      "625/625 [==============================] - 5s 9ms/step - loss: 0.6946 - accuracy: 0.5063 - val_loss: 0.6938 - val_accuracy: 0.4970\n",
      "Epoch 9/64\n",
      "625/625 [==============================] - 5s 8ms/step - loss: 0.6942 - accuracy: 0.5030 - val_loss: 0.6929 - val_accuracy: 0.5190\n",
      "Epoch 10/64\n",
      "625/625 [==============================] - 6s 9ms/step - loss: 0.6883 - accuracy: 0.5385 - val_loss: 0.6825 - val_accuracy: 0.5470\n",
      "Epoch 11/64\n",
      "625/625 [==============================] - 6s 10ms/step - loss: 0.6595 - accuracy: 0.6060 - val_loss: 0.6276 - val_accuracy: 0.6590\n",
      "Epoch 12/64\n",
      "625/625 [==============================] - 5s 7ms/step - loss: 0.6355 - accuracy: 0.6436 - val_loss: 0.6183 - val_accuracy: 0.6560\n",
      "Epoch 13/64\n",
      "625/625 [==============================] - 4s 7ms/step - loss: 0.6260 - accuracy: 0.6543 - val_loss: 0.6080 - val_accuracy: 0.6710\n",
      "Epoch 14/64\n",
      "625/625 [==============================] - 4s 7ms/step - loss: 0.6095 - accuracy: 0.6699 - val_loss: 0.5860 - val_accuracy: 0.6930\n",
      "Epoch 15/64\n",
      "625/625 [==============================] - 4s 7ms/step - loss: 0.5742 - accuracy: 0.7049 - val_loss: 0.5386 - val_accuracy: 0.7370\n",
      "Epoch 16/64\n",
      "625/625 [==============================] - 5s 7ms/step - loss: 0.5290 - accuracy: 0.7401 - val_loss: 0.4892 - val_accuracy: 0.7600\n",
      "Epoch 17/64\n",
      "625/625 [==============================] - 4s 7ms/step - loss: 0.4958 - accuracy: 0.7645 - val_loss: 0.4719 - val_accuracy: 0.7750\n",
      "Epoch 18/64\n",
      "625/625 [==============================] - 5s 7ms/step - loss: 0.4630 - accuracy: 0.7896 - val_loss: 0.4488 - val_accuracy: 0.7930\n",
      "Epoch 19/64\n",
      "625/625 [==============================] - 5s 7ms/step - loss: 0.4369 - accuracy: 0.8081 - val_loss: 0.4235 - val_accuracy: 0.8040\n",
      "Epoch 20/64\n",
      "625/625 [==============================] - 5s 7ms/step - loss: 0.4111 - accuracy: 0.8198 - val_loss: 0.4096 - val_accuracy: 0.8120\n",
      "Epoch 21/64\n",
      "625/625 [==============================] - 5s 8ms/step - loss: 0.3968 - accuracy: 0.8281 - val_loss: 0.3929 - val_accuracy: 0.8240\n",
      "Epoch 22/64\n",
      "625/625 [==============================] - 5s 8ms/step - loss: 0.3789 - accuracy: 0.8377 - val_loss: 0.3770 - val_accuracy: 0.8310\n",
      "Epoch 23/64\n",
      "625/625 [==============================] - 6s 9ms/step - loss: 0.3658 - accuracy: 0.8426 - val_loss: 0.3760 - val_accuracy: 0.8390\n",
      "Epoch 24/64\n",
      "625/625 [==============================] - 5s 8ms/step - loss: 0.3529 - accuracy: 0.8475 - val_loss: 0.3577 - val_accuracy: 0.8370\n",
      "Epoch 25/64\n",
      "625/625 [==============================] - 5s 8ms/step - loss: 0.3520 - accuracy: 0.8514 - val_loss: 0.3571 - val_accuracy: 0.8440\n",
      "Epoch 26/64\n",
      "625/625 [==============================] - 5s 8ms/step - loss: 0.3407 - accuracy: 0.8494 - val_loss: 0.3624 - val_accuracy: 0.8310\n",
      "Epoch 27/64\n",
      "625/625 [==============================] - 5s 8ms/step - loss: 0.3349 - accuracy: 0.8539 - val_loss: 0.3555 - val_accuracy: 0.8290\n",
      "Epoch 28/64\n",
      "625/625 [==============================] - 5s 8ms/step - loss: 0.3303 - accuracy: 0.8554 - val_loss: 0.3476 - val_accuracy: 0.8360\n",
      "Epoch 29/64\n",
      "625/625 [==============================] - 5s 8ms/step - loss: 0.3304 - accuracy: 0.8565 - val_loss: 0.3439 - val_accuracy: 0.8410\n",
      "Epoch 30/64\n",
      "625/625 [==============================] - 5s 7ms/step - loss: 0.3304 - accuracy: 0.8597 - val_loss: 0.3450 - val_accuracy: 0.8370\n",
      "Epoch 31/64\n",
      "625/625 [==============================] - 5s 7ms/step - loss: 0.3223 - accuracy: 0.8608 - val_loss: 0.3626 - val_accuracy: 0.8320\n",
      "Epoch 32/64\n",
      "625/625 [==============================] - 5s 7ms/step - loss: 0.3214 - accuracy: 0.8578 - val_loss: 0.3600 - val_accuracy: 0.8380\n",
      "Epoch 33/64\n",
      "625/625 [==============================] - 5s 7ms/step - loss: 0.3180 - accuracy: 0.8589 - val_loss: 0.3476 - val_accuracy: 0.8370\n",
      "Epoch 34/64\n",
      "625/625 [==============================] - 5s 7ms/step - loss: 0.3145 - accuracy: 0.8657 - val_loss: 0.3348 - val_accuracy: 0.8400\n",
      "Epoch 35/64\n",
      "625/625 [==============================] - 5s 7ms/step - loss: 0.3129 - accuracy: 0.8628 - val_loss: 0.3442 - val_accuracy: 0.8350\n",
      "Epoch 36/64\n",
      "625/625 [==============================] - 5s 7ms/step - loss: 0.3157 - accuracy: 0.8606 - val_loss: 0.3476 - val_accuracy: 0.8360\n",
      "Epoch 37/64\n",
      "625/625 [==============================] - 4s 7ms/step - loss: 0.3172 - accuracy: 0.8619 - val_loss: 0.3524 - val_accuracy: 0.8330\n",
      "Epoch 38/64\n",
      "625/625 [==============================] - 5s 8ms/step - loss: 0.3133 - accuracy: 0.8645 - val_loss: 0.3497 - val_accuracy: 0.8310\n",
      "Epoch 39/64\n",
      "625/625 [==============================] - 5s 8ms/step - loss: 0.3103 - accuracy: 0.8632 - val_loss: 0.3627 - val_accuracy: 0.8320\n",
      "Epoch 40/64\n",
      "625/625 [==============================] - 5s 7ms/step - loss: 0.3066 - accuracy: 0.8655 - val_loss: 0.3644 - val_accuracy: 0.8310\n",
      "Epoch 41/64\n",
      "625/625 [==============================] - 6s 9ms/step - loss: 0.3063 - accuracy: 0.8663 - val_loss: 0.3541 - val_accuracy: 0.8360\n",
      "Epoch 42/64\n",
      "625/625 [==============================] - 6s 9ms/step - loss: 0.3014 - accuracy: 0.8706 - val_loss: 0.3623 - val_accuracy: 0.8320\n",
      "Epoch 43/64\n",
      "625/625 [==============================] - 6s 9ms/step - loss: 0.3020 - accuracy: 0.8660 - val_loss: 0.3457 - val_accuracy: 0.8430\n",
      "Epoch 44/64\n",
      "625/625 [==============================] - 6s 9ms/step - loss: 0.3022 - accuracy: 0.8708 - val_loss: 0.4073 - val_accuracy: 0.8230\n",
      "Epoch 45/64\n",
      "625/625 [==============================] - 6s 9ms/step - loss: 0.3041 - accuracy: 0.8662 - val_loss: 0.3561 - val_accuracy: 0.8400\n",
      "Epoch 46/64\n",
      "625/625 [==============================] - 6s 9ms/step - loss: 0.2985 - accuracy: 0.8691 - val_loss: 0.3906 - val_accuracy: 0.8120\n",
      "Epoch 47/64\n",
      "625/625 [==============================] - 6s 9ms/step - loss: 0.2961 - accuracy: 0.8691 - val_loss: 0.3500 - val_accuracy: 0.8380\n",
      "Epoch 48/64\n",
      "625/625 [==============================] - 9s 15ms/step - loss: 0.2982 - accuracy: 0.8700 - val_loss: 0.3520 - val_accuracy: 0.8360\n",
      "Epoch 49/64\n",
      "625/625 [==============================] - 8s 14ms/step - loss: 0.2967 - accuracy: 0.8738 - val_loss: 0.3638 - val_accuracy: 0.8340\n",
      "Epoch 50/64\n",
      "625/625 [==============================] - 13s 21ms/step - loss: 0.2933 - accuracy: 0.8710 - val_loss: 0.3550 - val_accuracy: 0.8340\n",
      "Epoch 51/64\n",
      "625/625 [==============================] - 12s 19ms/step - loss: 0.2975 - accuracy: 0.8730 - val_loss: 0.3509 - val_accuracy: 0.8310\n",
      "Epoch 52/64\n",
      "625/625 [==============================] - 10s 16ms/step - loss: 0.2916 - accuracy: 0.8746 - val_loss: 0.3567 - val_accuracy: 0.8410\n",
      "Epoch 53/64\n",
      "625/625 [==============================] - 13s 21ms/step - loss: 0.2868 - accuracy: 0.8729 - val_loss: 0.3528 - val_accuracy: 0.8430\n",
      "Epoch 54/64\n",
      "625/625 [==============================] - 8s 13ms/step - loss: 0.2825 - accuracy: 0.8764 - val_loss: 0.3704 - val_accuracy: 0.8300\n",
      "Epoch 55/64\n",
      "625/625 [==============================] - 10s 17ms/step - loss: 0.2917 - accuracy: 0.8762 - val_loss: 0.3673 - val_accuracy: 0.8280\n",
      "Epoch 56/64\n",
      "625/625 [==============================] - 8s 13ms/step - loss: 0.2858 - accuracy: 0.8760 - val_loss: 0.3757 - val_accuracy: 0.8300\n",
      "Epoch 57/64\n",
      "625/625 [==============================] - 7s 11ms/step - loss: 0.2878 - accuracy: 0.8786 - val_loss: 0.3775 - val_accuracy: 0.8370\n",
      "Epoch 58/64\n"
     ]
    },
    {
     "name": "stdout",
     "output_type": "stream",
     "text": [
      "625/625 [==============================] - 6s 9ms/step - loss: 0.2885 - accuracy: 0.8777 - val_loss: 0.3599 - val_accuracy: 0.8350\n",
      "Epoch 59/64\n",
      "625/625 [==============================] - 7s 11ms/step - loss: 0.2821 - accuracy: 0.8817 - val_loss: 0.3679 - val_accuracy: 0.8350\n",
      "Epoch 60/64\n",
      "625/625 [==============================] - 9s 15ms/step - loss: 0.2853 - accuracy: 0.8743 - val_loss: 0.3910 - val_accuracy: 0.8320\n",
      "Epoch 61/64\n",
      "625/625 [==============================] - 8s 14ms/step - loss: 0.2848 - accuracy: 0.8804 - val_loss: 0.3992 - val_accuracy: 0.8360\n",
      "Epoch 62/64\n",
      "625/625 [==============================] - 7s 11ms/step - loss: 0.2756 - accuracy: 0.8807 - val_loss: 0.3854 - val_accuracy: 0.8280\n",
      "Epoch 63/64\n",
      "625/625 [==============================] - 7s 10ms/step - loss: 0.2802 - accuracy: 0.8825 - val_loss: 0.3886 - val_accuracy: 0.8360\n",
      "Epoch 64/64\n",
      "625/625 [==============================] - 9s 14ms/step - loss: 0.2765 - accuracy: 0.8793 - val_loss: 0.3911 - val_accuracy: 0.8350\n"
     ]
    }
   ],
   "source": [
    "\n",
    "history = model.fit([inputs_train, queries_train], answers_train,batch_size=16,\n",
    "                    epochs=64,validation_data=([inputs_test, queries_test], answers_test))"
   ]
  },
  {
   "cell_type": "code",
   "execution_count": 55,
   "metadata": {
    "execution": {
     "iopub.execute_input": "2022-09-14T15:46:55.046420Z",
     "iopub.status.busy": "2022-09-14T15:46:55.046053Z",
     "iopub.status.idle": "2022-09-14T15:46:55.084085Z",
     "shell.execute_reply": "2022-09-14T15:46:55.083136Z",
     "shell.execute_reply.started": "2022-09-14T15:46:55.046387Z"
    }
   },
   "outputs": [],
   "source": [
    "filename = 'chatbot_120_epochs.h5'\n",
    "model.save(filename)"
   ]
  },
  {
   "cell_type": "code",
   "execution_count": 56,
   "metadata": {
    "execution": {
     "iopub.execute_input": "2022-09-14T15:46:59.376603Z",
     "iopub.status.busy": "2022-09-14T15:46:59.375893Z",
     "iopub.status.idle": "2022-09-14T15:46:59.387225Z",
     "shell.execute_reply": "2022-09-14T15:46:59.385781Z",
     "shell.execute_reply.started": "2022-09-14T15:46:59.376547Z"
    }
   },
   "outputs": [
    {
     "name": "stdout",
     "output_type": "stream",
     "text": [
      "dict_keys(['loss', 'accuracy', 'val_loss', 'val_accuracy'])\n"
     ]
    }
   ],
   "source": [
    "import matplotlib.pyplot as plt\n",
    "%matplotlib inline\n",
    "print(history.history.keys())\n"
   ]
  },
  {
   "cell_type": "code",
   "execution_count": 57,
   "metadata": {
    "execution": {
     "iopub.execute_input": "2022-09-14T15:47:04.706865Z",
     "iopub.status.busy": "2022-09-14T15:47:04.706472Z",
     "iopub.status.idle": "2022-09-14T15:47:04.943154Z",
     "shell.execute_reply": "2022-09-14T15:47:04.941990Z",
     "shell.execute_reply.started": "2022-09-14T15:47:04.706830Z"
    }
   },
   "outputs": [
    {
     "data": {
      "image/png": "[encoded data removed]",
      "text/plain": [
       "<Figure size 640x480 with 1 Axes>"
      ]
     },
     "metadata": {},
     "output_type": "display_data"
    }
   ],
   "source": [
    "\n",
    "plt.plot(history.history['accuracy'])\n",
    "plt.plot(history.history['val_accuracy'])\n",
    "plt.title('model accuracy')\n",
    "plt.ylabel('accuracy')\n",
    "plt.xlabel('epoch')\n",
    "plt.grid()\n",
    "plt.legend(['train', 'test'], loc='upper left')\n",
    "plt.show()"
   ]
  },
  {
   "cell_type": "code",
   "execution_count": 58,
   "metadata": {
    "execution": {
     "iopub.execute_input": "2022-09-14T15:47:16.826374Z",
     "iopub.status.busy": "2022-09-14T15:47:16.825947Z",
     "iopub.status.idle": "2022-09-14T15:47:17.012850Z",
     "shell.execute_reply": "2022-09-14T15:47:17.011689Z",
     "shell.execute_reply.started": "2022-09-14T15:47:16.826333Z"
    }
   },
   "outputs": [
    {
     "data": {
      "image/png": "[encoded data removed]",
      "text/plain": [
       "<Figure size 640x480 with 1 Axes>"
      ]
     },
     "metadata": {},
     "output_type": "display_data"
    }
   ],
   "source": [
    "\n",
    "plt.plot(history.history['loss'])\n",
    "plt.plot(history.history['val_loss'])\n",
    "plt.title('model loss')\n",
    "plt.ylabel('loss')\n",
    "plt.xlabel('epoch')\n",
    "plt.grid()\n",
    "plt.legend(['train', 'test'], loc='upper left')\n",
    "plt.show()"
   ]
  },
  {
   "cell_type": "code",
   "execution_count": 59,
   "metadata": {
    "execution": {
     "iopub.execute_input": "2022-09-14T15:47:20.426469Z",
     "iopub.status.busy": "2022-09-14T15:47:20.425856Z",
     "iopub.status.idle": "2022-09-14T15:47:21.037682Z",
     "shell.execute_reply": "2022-09-14T15:47:21.036634Z",
     "shell.execute_reply.started": "2022-09-14T15:47:20.426416Z"
    }
   },
   "outputs": [
    {
     "name": "stdout",
     "output_type": "stream",
     "text": [
      "32/32 [==============================] - 1s 4ms/step\n"
     ]
    }
   ],
   "source": [
    "model.load_weights(filename)\n",
    "pred_results = model.predict(([inputs_test, queries_test]))"
   ]
  },
  {
   "cell_type": "code",
   "execution_count": 60,
   "metadata": {
    "execution": {
     "iopub.execute_input": "2022-09-14T15:47:23.216157Z",
     "iopub.status.busy": "2022-09-14T15:47:23.215746Z",
     "iopub.status.idle": "2022-09-14T15:47:23.224010Z",
     "shell.execute_reply": "2022-09-14T15:47:23.222679Z",
     "shell.execute_reply.started": "2022-09-14T15:47:23.216111Z"
    }
   },
   "outputs": [
    {
     "data": {
      "text/plain": [
       "['Mary',\n",
       " 'got',\n",
       " 'the',\n",
       " 'milk',\n",
       " 'there',\n",
       " '.',\n",
       " 'John',\n",
       " 'moved',\n",
       " 'to',\n",
       " 'the',\n",
       " 'bedroom',\n",
       " '.']"
      ]
     },
     "execution_count": 60,
     "metadata": {},
     "output_type": "execute_result"
    }
   ],
   "source": [
    "test_data[0][0]"
   ]
  },
  {
   "cell_type": "code",
   "execution_count": 61,
   "metadata": {
    "execution": {
     "iopub.execute_input": "2022-09-14T15:47:26.496358Z",
     "iopub.status.busy": "2022-09-14T15:47:26.495930Z",
     "iopub.status.idle": "2022-09-14T15:47:26.502940Z",
     "shell.execute_reply": "2022-09-14T15:47:26.501497Z",
     "shell.execute_reply.started": "2022-09-14T15:47:26.496313Z"
    }
   },
   "outputs": [
    {
     "name": "stdout",
     "output_type": "stream",
     "text": [
      "Mary got the milk there . John moved to the bedroom .\n"
     ]
    }
   ],
   "source": [
    "story =' '.join(word for word in test_data[0][0])\n",
    "print(story)"
   ]
  },
  {
   "cell_type": "code",
   "execution_count": 62,
   "metadata": {
    "execution": {
     "iopub.execute_input": "2022-09-14T15:47:29.326206Z",
     "iopub.status.busy": "2022-09-14T15:47:29.325813Z",
     "iopub.status.idle": "2022-09-14T15:47:29.333093Z",
     "shell.execute_reply": "2022-09-14T15:47:29.331551Z",
     "shell.execute_reply.started": "2022-09-14T15:47:29.326167Z"
    }
   },
   "outputs": [
    {
     "name": "stdout",
     "output_type": "stream",
     "text": [
      "Is John in the kitchen ?\n"
     ]
    }
   ],
   "source": [
    "query = ' '.join(word for word in test_data[0][1])\n",
    "print(query)"
   ]
  },
  {
   "cell_type": "code",
   "execution_count": 63,
   "metadata": {
    "execution": {
     "iopub.execute_input": "2022-09-14T15:47:32.406033Z",
     "iopub.status.busy": "2022-09-14T15:47:32.405609Z",
     "iopub.status.idle": "2022-09-14T15:47:32.412637Z",
     "shell.execute_reply": "2022-09-14T15:47:32.411354Z",
     "shell.execute_reply.started": "2022-09-14T15:47:32.405988Z"
    }
   },
   "outputs": [
    {
     "name": "stdout",
     "output_type": "stream",
     "text": [
      "True Test Answer from Data is: no\n"
     ]
    }
   ],
   "source": [
    "print(\"True Test Answer from Data is:\",test_data[0][2])"
   ]
  },
  {
   "cell_type": "code",
   "execution_count": 64,
   "metadata": {
    "execution": {
     "iopub.execute_input": "2022-09-14T15:47:35.596043Z",
     "iopub.status.busy": "2022-09-14T15:47:35.595680Z",
     "iopub.status.idle": "2022-09-14T15:47:35.608243Z",
     "shell.execute_reply": "2022-09-14T15:47:35.606780Z",
     "shell.execute_reply.started": "2022-09-14T15:47:35.596011Z"
    }
   },
   "outputs": [
    {
     "name": "stdout",
     "output_type": "stream",
     "text": [
      "Predicted answer is:  no\n",
      "Probability of certainty was:  0.99999666\n"
     ]
    }
   ],
   "source": [
    "\n",
    "val_max = np.argmax(pred_results[0])\n",
    "\n",
    "for key, val in tokenizer.word_index.items():\n",
    "    if val == val_max:\n",
    "        k = key\n",
    "\n",
    "print(\"Predicted answer is: \", k)\n",
    "print(\"Probability of certainty was: \", pred_results[0][val_max])"
   ]
  },
  {
   "cell_type": "code",
   "execution_count": 65,
   "metadata": {
    "execution": {
     "iopub.execute_input": "2022-09-14T15:47:45.068219Z",
     "iopub.status.busy": "2022-09-14T15:47:45.067799Z",
     "iopub.status.idle": "2022-09-14T15:47:45.075964Z",
     "shell.execute_reply": "2022-09-14T15:47:45.074765Z",
     "shell.execute_reply.started": "2022-09-14T15:47:45.068183Z"
    }
   },
   "outputs": [
    {
     "data": {
      "text/plain": [
       "{'.',\n",
       " '?',\n",
       " 'Daniel',\n",
       " 'Is',\n",
       " 'John',\n",
       " 'Mary',\n",
       " 'Sandra',\n",
       " 'apple',\n",
       " 'back',\n",
       " 'bathroom',\n",
       " 'bedroom',\n",
       " 'discarded',\n",
       " 'down',\n",
       " 'dropped',\n",
       " 'football',\n",
       " 'garden',\n",
       " 'got',\n",
       " 'grabbed',\n",
       " 'hallway',\n",
       " 'in',\n",
       " 'journeyed',\n",
       " 'kitchen',\n",
       " 'left',\n",
       " 'milk',\n",
       " 'moved',\n",
       " 'no',\n",
       " 'office',\n",
       " 'picked',\n",
       " 'put',\n",
       " 'the',\n",
       " 'there',\n",
       " 'to',\n",
       " 'took',\n",
       " 'travelled',\n",
       " 'up',\n",
       " 'went',\n",
       " 'yes'}"
      ]
     },
     "execution_count": 65,
     "metadata": {},
     "output_type": "execute_result"
    }
   ],
   "source": [
    "vocab"
   ]
  },
  {
   "cell_type": "code",
   "execution_count": 66,
   "metadata": {
    "execution": {
     "iopub.execute_input": "2022-09-14T15:47:48.436151Z",
     "iopub.status.busy": "2022-09-14T15:47:48.435789Z",
     "iopub.status.idle": "2022-09-14T15:47:48.442860Z",
     "shell.execute_reply": "2022-09-14T15:47:48.441774Z",
     "shell.execute_reply.started": "2022-09-14T15:47:48.436119Z"
    }
   },
   "outputs": [
    {
     "data": {
      "text/plain": [
       "['John',\n",
       " 'left',\n",
       " 'the',\n",
       " 'kitchen',\n",
       " '.',\n",
       " 'Sandra',\n",
       " 'dropped',\n",
       " 'the',\n",
       " 'football',\n",
       " 'in',\n",
       " 'the',\n",
       " 'garden',\n",
       " '.']"
      ]
     },
     "execution_count": 66,
     "metadata": {},
     "output_type": "execute_result"
    }
   ],
   "source": [
    "\n",
    "my_story = \"John left the kitchen . Sandra dropped the football in the garden .\"\n",
    "my_story.split()"
   ]
  },
  {
   "cell_type": "code",
   "execution_count": 73,
   "metadata": {
    "execution": {
     "iopub.execute_input": "2022-09-14T15:47:53.046112Z",
     "iopub.status.busy": "2022-09-14T15:47:53.045711Z",
     "iopub.status.idle": "2022-09-14T15:47:53.053581Z",
     "shell.execute_reply": "2022-09-14T15:47:53.052626Z",
     "shell.execute_reply.started": "2022-09-14T15:47:53.046076Z"
    }
   },
   "outputs": [],
   "source": [
    "my_question = \"Is the football in the kitchen ?\""
   ]
  },
  {
   "cell_type": "code",
   "execution_count": 74,
   "metadata": {
    "execution": {
     "iopub.execute_input": "2022-09-14T15:47:57.796492Z",
     "iopub.status.busy": "2022-09-14T15:47:57.796119Z",
     "iopub.status.idle": "2022-09-14T15:47:57.803763Z",
     "shell.execute_reply": "2022-09-14T15:47:57.802361Z",
     "shell.execute_reply.started": "2022-09-14T15:47:57.796460Z"
    }
   },
   "outputs": [],
   "source": [
    "my_story = \"John left the kitchen . Sandra dropped the football in the garden .\"\n",
    "splitted_my_story=my_story.split()"
   ]
  },
  {
   "cell_type": "code",
   "execution_count": 75,
   "metadata": {
    "execution": {
     "iopub.execute_input": "2022-09-14T15:48:00.206220Z",
     "iopub.status.busy": "2022-09-14T15:48:00.205835Z",
     "iopub.status.idle": "2022-09-14T15:48:00.211891Z",
     "shell.execute_reply": "2022-09-14T15:48:00.210466Z",
     "shell.execute_reply.started": "2022-09-14T15:48:00.206181Z"
    }
   },
   "outputs": [],
   "source": [
    "mydata = [(splitted_my_story,my_question.split(),'yes')]"
   ]
  },
  {
   "cell_type": "code",
   "execution_count": 76,
   "metadata": {
    "execution": {
     "iopub.execute_input": "2022-09-14T15:48:04.419939Z",
     "iopub.status.busy": "2022-09-14T15:48:04.419212Z",
     "iopub.status.idle": "2022-09-14T15:48:04.426912Z",
     "shell.execute_reply": "2022-09-14T15:48:04.425213Z",
     "shell.execute_reply.started": "2022-09-14T15:48:04.419884Z"
    }
   },
   "outputs": [],
   "source": [
    "my_story,my_ques,my_ans = vectorize_stories(mydata)"
   ]
  },
  {
   "cell_type": "code",
   "execution_count": 77,
   "metadata": {
    "execution": {
     "iopub.execute_input": "2022-09-14T15:48:06.957054Z",
     "iopub.status.busy": "2022-09-14T15:48:06.956438Z",
     "iopub.status.idle": "2022-09-14T15:48:07.006273Z",
     "shell.execute_reply": "2022-09-14T15:48:07.005251Z",
     "shell.execute_reply.started": "2022-09-14T15:48:06.957000Z"
    }
   },
   "outputs": [
    {
     "name": "stdout",
     "output_type": "stream",
     "text": [
      "1/1 [==============================] - 0s 30ms/step\n"
     ]
    }
   ],
   "source": [
    "pred_results = model.predict(([ my_story, my_ques]))"
   ]
  },
  {
   "cell_type": "code",
   "execution_count": 78,
   "metadata": {
    "execution": {
     "iopub.execute_input": "2022-09-14T15:48:08.146204Z",
     "iopub.status.busy": "2022-09-14T15:48:08.145813Z",
     "iopub.status.idle": "2022-09-14T15:48:08.153987Z",
     "shell.execute_reply": "2022-09-14T15:48:08.152984Z",
     "shell.execute_reply.started": "2022-09-14T15:48:08.146169Z"
    }
   },
   "outputs": [
    {
     "name": "stdout",
     "output_type": "stream",
     "text": [
      "Predicted answer is:  no\n",
      "Probability of certainty was:  0.99971193\n"
     ]
    }
   ],
   "source": [
    "\n",
    "val_max = np.argmax(pred_results[0])\n",
    "\n",
    "for key, val in tokenizer.word_index.items():\n",
    "    if val == val_max:\n",
    "        k = key\n",
    "\n",
    "print(\"Predicted answer is: \", k)\n",
    "print(\"Probability of certainty was: \", pred_results[0][val_max])"
   ]
  }
 ],
 "metadata": {
  "kernelspec": {
   "display_name": "Python 3 (ipykernel)",
   "language": "python",
   "name": "python3"
  },
  "language_info": {
   "codemirror_mode": {
    "name": "ipython",
    "version": 3
   },
   "file_extension": ".py",
   "mimetype": "text/x-python",
   "name": "python",
   "nbconvert_exporter": "python",
   "pygments_lexer": "ipython3",
   "version": "3.10.5"
  }
 },
 "nbformat": 4,
 "nbformat_minor": 4
}
